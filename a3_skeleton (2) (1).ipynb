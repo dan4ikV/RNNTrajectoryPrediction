{
  "cells": [
    {
      "cell_type": "markdown",
      "metadata": {
        "id": "963690b2"
      },
      "source": [
        "<a href=\"https://colab.research.google.com/github/vlamen/tue-deeplearning/blob/main/assignments/assignment_2_3/a3_skeleton.ipynb\" target=\"_parent\"><img src=\"https://colab.research.google.com/assets/colab-badge.svg\" alt=\"Open In Colab\"/></a>"
      ],
      "id": "963690b2"
    },
    {
      "cell_type": "markdown",
      "metadata": {
        "id": "bd8459f1"
      },
      "source": [
        "# Group Number: 28\n",
        "\n",
        "# Student 1: Stan Meijerink, 1222737 \n",
        "\n",
        "# Student 2: Sam van der Velden, 1017871 \n",
        "\n",
        "# Student 3: Danylo Vasylyshyn, 1815709"
      ],
      "id": "bd8459f1"
    },
    {
      "cell_type": "markdown",
      "metadata": {
        "id": "dde28458"
      },
      "source": [
        "# Downloading Data and Preliminaries"
      ],
      "id": "dde28458"
    },
    {
      "cell_type": "code",
      "execution_count": null,
      "metadata": {
        "id": "36fe2739"
      },
      "outputs": [],
      "source": [
        "import torch\n",
        "import torch.nn as nn\n",
        "import torch.optim as optim\n",
        "\n",
        "import spacy\n",
        "import numpy as np\n",
        "\n",
        "import random\n",
        "import math\n",
        "import time"
      ],
      "id": "36fe2739"
    },
    {
      "cell_type": "code",
      "execution_count": null,
      "metadata": {
        "id": "7d0580a5"
      },
      "outputs": [],
      "source": [
        "import pickle\n",
        "import matplotlib.pyplot as plt\n",
        "import matplotlib\n",
        "import numpy as np\n",
        "\n",
        "from zipfile import ZipFile\n",
        "import requests\n",
        "import io"
      ],
      "id": "7d0580a5"
    },
    {
      "cell_type": "code",
      "execution_count": null,
      "metadata": {
        "id": "8ce00edc"
      },
      "outputs": [],
      "source": [
        "def load_zip(url):\n",
        "    response = requests.get(url)\n",
        "    response.raise_for_status()\n",
        "    zipf = ZipFile(io.BytesIO(response.content))\n",
        "    return {name: zipf.read(name) for name in zipf.namelist()}\n",
        "\n",
        "def load_pickle(zipfile, fn):\n",
        "    return pickle.load(io.BytesIO(zipfile[fn]))"
      ],
      "id": "8ce00edc"
    },
    {
      "cell_type": "code",
      "execution_count": null,
      "metadata": {
        "id": "bb77a4be"
      },
      "outputs": [],
      "source": [
        "data = load_zip('https://surfdrive.surf.nl/files/index.php/s/cwqGaS22KXgnXtg/download')\n",
        "\n",
        "    \n",
        "\"\"\"\n",
        "simulation_{train, valid, test} is stored as a list of simulations. \n",
        "Each simulation is a numpy array of size (t, 2): For t timesteps an x and y coordinate of our particle.\n",
        "\"\"\"\n",
        "simulation_train = load_pickle(data, 'data/train/simulation.pickle')  # 3.1 + 3.2\n",
        "simulation_valid = load_pickle(data, 'data/valid/simulation.pickle')  # 3.1 + 3.2\n",
        "simulation_test = load_pickle(data, 'data/test/simulation.pickle')  # 3.1 + 3.2\n",
        "\n",
        "\"\"\"\n",
        "charges_{train, valid, test} is stored as a list of simulation-charges. \n",
        "These charges are stored as numpy arrays of size (3,): One value for each charge.\n",
        "\"\"\"\n",
        "charges_train = load_pickle(data, 'data/train/charges.pickle')  # 3.1\n",
        "charges_valid = load_pickle(data, 'data/valid/charges.pickle')  # 3.1\n",
        "charges_test = load_pickle(data, 'data/test/charges.pickle')  # 3.1\n",
        "\n",
        "\"\"\"\n",
        "simulation_continued_{train, valid, test} is stored as a list of simulations. \n",
        "Each simulation is a numpy array of size (t, 2): For t timesteps an x and y coordinate of our particle.\n",
        "\"\"\"\n",
        "simulation_continued_train = load_pickle(data, 'data/train/simulation_continued.pickle')  # 3.2\n",
        "simulation_continued_valid = load_pickle(data, 'data/valid/simulation_continued.pickle')  # 3.2\n",
        "simulation_continued_test = load_pickle(data, 'data/test/simulation_continued.pickle')  # 3.2\n",
        "\n",
        "\"\"\"\n",
        "Note that the indices are shared throughout the different lists, e.g., for the 4th training simulation:\n",
        "simulation_train[3] contains its initial simulation\n",
        "charges_train[3] contains the charges associated with the simulation\n",
        "simulation_continued_train[3] contains the continuation of the simulation \n",
        "                --> simulation_continued_train[3][0] is the state after simulation_train[3][-1]\n",
        "\"\"\"\n",
        "pass"
      ],
      "id": "bb77a4be"
    },
    {
      "cell_type": "code",
      "execution_count": null,
      "metadata": {
        "colab": {
          "base_uri": "https://localhost:8080/"
        },
        "id": "10a3438a",
        "outputId": "7504c342-0dd8-4ce4-8206-89cfa9323fff"
      },
      "outputs": [
        {
          "output_type": "stream",
          "name": "stdout",
          "text": [
            "Overview of no. datapoints:\n",
            "\n",
            "Task 3.1:\n",
            "800 train, 100 validation, 100 test simulations\n",
            "800 train, 100 validation, 100 test charge pairs\n",
            "\n",
            "Task 3.2:\n",
            "Since len(simulation_continued_train) < len(simulation_train), we can only use a subset of initial simulations\n",
            "We cut simulation_train down to the first 150 samples in simulation_train_task32\n",
            "150 train, 100 validation, 100 test simulations\n",
            "150 train, 100 validation, 100 test continuations\n",
            "\n",
            "For task 3.1, use:\n",
            "simulation_train + charges_train\n",
            "simulation_valid + charges_valid\n",
            "simulation_test + charges_test\n",
            "\n",
            "For task 3.2, use:\n",
            "simulation_train_task32 + simulation_continued_train\n",
            "simulation_valid + simulation_continued_valid\n",
            "simulation_test + simulation_continued_test\n",
            "\n"
          ]
        }
      ],
      "source": [
        "print('Overview of no. datapoints:\\n')\n",
        "\n",
        "print('Task 3.1:')\n",
        "print(f'{len(simulation_train)} train, {len(simulation_valid)} validation, {len(simulation_test)} test simulations')\n",
        "print(f'{len(charges_train)} train, {len(charges_valid)} validation, {len(charges_test)} test charge pairs')\n",
        "print()\n",
        "\n",
        "print('Task 3.2:')\n",
        "print('Since len(simulation_continued_train) < len(simulation_train), we can only use a subset of initial simulations')\n",
        "print('We cut simulation_train down to the first 150 samples in simulation_train_task32')\n",
        "simulation_train_task32 = simulation_train[:150]\n",
        "print(f'{len(simulation_train_task32)} train, {len(simulation_valid)} validation, {len(simulation_test)} test simulations')\n",
        "print(f'{len(simulation_continued_train)} train, {len(simulation_continued_valid)} validation, {len(simulation_continued_test)} test continuations')\n",
        "\n",
        "print(f\"\"\"\n",
        "For task 3.1, use:\n",
        "{chr(10).join([\"simulation_{} + charges_{}\".format(t, t) for t in [\"train\", \"valid\", \"test\"]])}\n",
        "\n",
        "For task 3.2, use:\n",
        "{chr(10).join([\"simulation_{} + simulation_continued_{}\".format(*((t[0], t[1]) if isinstance(t, tuple) else (t, t))) for t in [(\"train_task32\", \"train\"), \"valid\", \"test\"]])}\n",
        "\"\"\")\n"
      ],
      "id": "10a3438a"
    },
    {
      "cell_type": "code",
      "execution_count": null,
      "metadata": {
        "colab": {
          "base_uri": "https://localhost:8080/"
        },
        "id": "3cfafdb3",
        "outputId": "9ff79981-58b9-4103-d0a3-b14b1312efb4"
      },
      "outputs": [
        {
          "output_type": "stream",
          "name": "stdout",
          "text": [
            "Print some shapes:\n",
            "\n",
            "simulation_train[0].shape: (103, 2) -> (t, 2), (x, y) at every t)\n",
            "charges_train[0].shape: (3,) -> charges for the simulation\n",
            "simulation_continued_train[0].shape: (54, 2) -> (t, 2), (x, y) at every t)\n",
            "----\n",
            "\n",
            "simulation_train[1].shape: (97, 2) -> (t, 2), (x, y) at every t)\n",
            "charges_train[1].shape: (3,) -> charges for the simulation\n",
            "simulation_continued_train[1].shape: (45, 2) -> (t, 2), (x, y) at every t)\n",
            "----\n",
            "\n",
            "simulation_train[2].shape: (99, 2) -> (t, 2), (x, y) at every t)\n",
            "charges_train[2].shape: (3,) -> charges for the simulation\n",
            "simulation_continued_train[2].shape: (47, 2) -> (t, 2), (x, y) at every t)\n",
            "----\n",
            "\n"
          ]
        }
      ],
      "source": [
        "print('Print some shapes:\\n')\n",
        "for i in range(3):\n",
        "    print('simulation_train[{}].shape:'.format(i), simulation_train[i].shape, '-> (t, 2), (x, y) at every t)')\n",
        "    print('charges_train[{}].shape:'.format(i), charges_train[i].shape, '-> charges for the simulation')\n",
        "    print('simulation_continued_train[{}].shape:'.format(i), simulation_continued_train[i].shape, '-> (t, 2), (x, y) at every t)')\n",
        "    print('----\\n')"
      ],
      "id": "3cfafdb3"
    },
    {
      "cell_type": "code",
      "execution_count": null,
      "metadata": {
        "id": "f9106543"
      },
      "outputs": [],
      "source": [
        "def plot_example(x, x_gt=None, x_pred=None, fn=None):\n",
        "    charge_locations = np.array([[-1.53846154, -1.53846154],\n",
        "                                 [ 1.53846154, -1.53846154],\n",
        "                                 [ 0.        ,  1.53846154]])  # charge locations are fixed\n",
        "    fig = plt.figure()\n",
        "    axes = plt.gca()\n",
        "    axes.set_xlim([-5., 5.])\n",
        "    axes.set_ylim([-5., 5.])\n",
        "    cmap = matplotlib.cm.get_cmap('tab20')\n",
        "    plt.plot(x[:, 0], x[:, 1], color=cmap(0))\n",
        "    plt.plot(x[0, 0], x[0, 1], 'd', color=cmap(1))\n",
        "    fig.set_size_inches(5, 5)\n",
        "    for charge in charge_locations:\n",
        "        plt.plot(charge[0], charge[1], 'd', color='black')\n",
        "    if x_gt is not None:\n",
        "        plt.plot(x_gt[:, 0], x_gt[:, 1], color='red', linewidth=.5)\n",
        "    if x_pred is not None:\n",
        "        plt.plot(x_pred[:, 0], x_pred[:, 1], color='green', linestyle='--')\n",
        "    if fn is None:\n",
        "        plt.show()\n",
        "    else:\n",
        "        plt.savefig(fn)"
      ],
      "id": "f9106543"
    },
    {
      "cell_type": "code",
      "execution_count": null,
      "metadata": {
        "colab": {
          "base_uri": "https://localhost:8080/",
          "height": 337
        },
        "id": "d28681a6",
        "outputId": "28572cb0-2b21-4665-a246-5a57e8c7935c"
      },
      "outputs": [
        {
          "output_type": "display_data",
          "data": {
            "text/plain": [
              "<Figure size 360x360 with 1 Axes>"
            ],
            "image/png": "[encoded data removed]"
          },
          "metadata": {
            "needs_background": "light"
          }
        },
        {
          "output_type": "stream",
          "name": "stdout",
          "text": [
            "Charges are [-0.42225889 -0.44497807 -0.15911579]\n"
          ]
        }
      ],
      "source": [
        "test_idx = np.random.randint(150)\n",
        "plot_example(simulation_train[test_idx], simulation_continued_train[test_idx])\n",
        "print(f'Charges are {charges_train[test_idx]}')"
      ],
      "id": "d28681a6"
    },
    {
      "cell_type": "markdown",
      "metadata": {
        "id": "883762b1"
      },
      "source": [
        "# Task 3.1"
      ],
      "id": "883762b1"
    },
    {
      "cell_type": "markdown",
      "metadata": {
        "id": "cc8853f6"
      },
      "source": [
        "## Model Implementation"
      ],
      "id": "cc8853f6"
    },
    {
      "cell_type": "code",
      "execution_count": null,
      "metadata": {
        "id": "d62b5aa6"
      },
      "outputs": [],
      "source": [
        ""
      ],
      "id": "d62b5aa6"
    },
    {
      "cell_type": "code",
      "execution_count": null,
      "metadata": {
        "id": "uuEBlu5yk9I0"
      },
      "outputs": [],
      "source": [
        "class Encoder(nn.Module):\n",
        "    def __init__(self, input_dim, hid_dim, n_layers, dropout):\n",
        "        super().__init__()\n",
        "        self.hid_dim = hid_dim\n",
        "        self.n_layers = n_layers\n",
        "        self.rnn = nn.LSTM(input_dim, hid_dim, n_layers, dropout = dropout)\n",
        "        \n",
        "    def forward(self, simulation_start):\n",
        "        outputs, (hidden, cell) = self.rnn(simulation_start)\n",
        "        return hidden, cell"
      ],
      "id": "uuEBlu5yk9I0"
    },
    {
      "cell_type": "code",
      "execution_count": null,
      "metadata": {
        "id": "84nXyt1bk9I_"
      },
      "outputs": [],
      "source": [
        "class Decoder(nn.Module):\n",
        "    def __init__(self, output_dim, hid_dim, n_layers, dropout):\n",
        "        super().__init__()\n",
        "        \n",
        "        self.output_dim = output_dim\n",
        "        self.input_dim = output_dim\n",
        "        self.hid_dim = hid_dim\n",
        "        self.n_layers = n_layers        \n",
        "        self.rnn = nn.LSTM(self.input_dim, hid_dim, n_layers, dropout = dropout)\n",
        "        \n",
        "        self.fc_out = nn.Linear(hid_dim, output_dim)\n",
        "        \n",
        "        self.dropout = nn.Dropout(dropout)\n",
        "        \n",
        "    def forward(self, input, hidden, cell):\n",
        "        input = input.unsqueeze(0)\n",
        "        output, (hidden, cell) = self.rnn(input, (hidden, cell))\n",
        "        prediction = self.fc_out(output)\n",
        "        \n",
        "        return prediction[0], hidden, cell"
      ],
      "id": "84nXyt1bk9I_"
    },
    {
      "cell_type": "code",
      "execution_count": null,
      "metadata": {
        "id": "5192ee18"
      },
      "outputs": [],
      "source": [
        "class SequenceClassification(nn.Module):\n",
        "    def __init__(self, encoder, decoder, device):\n",
        "        super().__init__()\n",
        "        \n",
        "        self.encoder = encoder\n",
        "        self.decoder = decoder\n",
        "        self.device = device\n",
        "        \n",
        "        assert encoder.hid_dim == decoder.hid_dim, \\\n",
        "            \"Hidden dimensions of encoder and decoder must be equal!\"\n",
        "        assert encoder.n_layers == decoder.n_layers, \\\n",
        "            \"Encoder and decoder must have equal number of layers!\"\n",
        "        \n",
        "    def forward(self, src, trg, teacher_forcing_ratio = 1):\n",
        "        trg_len = trg.shape[0]\n",
        "        outputs = torch.zeros(trg_len).to(self.device)\n",
        "        hidden, cell = self.encoder(src)\n",
        "        \n",
        "        input = torch.zeros(3)\n",
        "        output, hidden, cell = self.decoder(input, hidden, cell)\n",
        "        return output"
      ],
      "id": "5192ee18"
    },
    {
      "cell_type": "markdown",
      "metadata": {
        "id": "0e443b7f"
      },
      "source": [
        "## Model Training"
      ],
      "id": "0e443b7f"
    },
    {
      "cell_type": "code",
      "execution_count": null,
      "metadata": {
        "id": "5a5b0aca"
      },
      "outputs": [],
      "source": [
        "#todo"
      ],
      "id": "5a5b0aca"
    },
    {
      "cell_type": "code",
      "execution_count": null,
      "metadata": {
        "id": "kco9Mps7lmoB",
        "colab": {
          "base_uri": "https://localhost:8080/"
        },
        "outputId": "d09dddce-e12b-49aa-d5d6-f34909556bbf"
      },
      "outputs": [
        {
          "output_type": "stream",
          "name": "stderr",
          "text": [
            "/usr/local/lib/python3.7/dist-packages/torch/nn/modules/rnn.py:65: UserWarning: dropout option adds dropout after all but last recurrent layer, so non-zero dropout expects num_layers greater than 1, but got dropout=0.2 and num_layers=1\n",
            "  \"num_layers={}\".format(dropout, num_layers))\n"
          ]
        }
      ],
      "source": [
        "INPUT_DIM = 2\n",
        "OUTPUT_DIM = 3\n",
        "HID_DIM = 40\n",
        "N_LAYERS = 1\n",
        "ENC_DROPOUT = 0.2\n",
        "DEC_DROPOUT = 0\n",
        "device = 'cpu'\n",
        "\n",
        "enc = Encoder(INPUT_DIM, HID_DIM, N_LAYERS, ENC_DROPOUT).to(device)\n",
        "dec = Decoder(OUTPUT_DIM, HID_DIM, N_LAYERS, DEC_DROPOUT).to(device)\n",
        "\n",
        "model = SequenceClassification(enc, dec, device).to(device)"
      ],
      "id": "kco9Mps7lmoB"
    },
    {
      "cell_type": "code",
      "execution_count": null,
      "metadata": {
        "id": "xiu-_GJalmoC"
      },
      "outputs": [],
      "source": [
        "optimizer = optim.Adam(model.parameters())\n"
      ],
      "id": "xiu-_GJalmoC"
    },
    {
      "cell_type": "code",
      "execution_count": null,
      "metadata": {
        "id": "7HJZP0mmlmoC"
      },
      "outputs": [],
      "source": [
        "def train(model, starting_simulation, continuation_of_simulation, optimizer, criterion, clip, teacher_force):\n",
        "    \n",
        "    model.train()\n",
        "    \n",
        "    epoch_loss = 0\n",
        "    for i, (src, trg) in enumerate(zip(starting_simulation, continuation_of_simulation)):\n",
        "        #print(trg.shape)\n",
        "        src = torch.FloatTensor(src)\n",
        "        trg = torch.FloatTensor(trg)\n",
        "        optimizer.zero_grad()\n",
        "        output = model(src, trg, teacher_force)\n",
        "        output_dim = output.shape[-1]\n",
        "        \n",
        "        output = output.view(output_dim)\n",
        "        \n",
        "        loss = criterion(trg, output)\n",
        "        loss.backward()\n",
        "        \n",
        "        torch.nn.utils.clip_grad_norm_(model.parameters(), clip)\n",
        "        \n",
        "        optimizer.step()\n",
        "        \n",
        "        epoch_loss += loss.item()\n",
        "        \n",
        "    return epoch_loss / len(starting_simulation)"
      ],
      "id": "7HJZP0mmlmoC"
    },
    {
      "cell_type": "code",
      "execution_count": null,
      "metadata": {
        "id": "hxO8s0n6lmoC"
      },
      "outputs": [],
      "source": [
        "def evaluate(model, starting_simulation, continuation_of_simulation, criterion):\n",
        "    \n",
        "    model.eval()\n",
        "    \n",
        "    epoch_loss = 0\n",
        "    \n",
        "    with torch.no_grad():\n",
        "      for i, (src, trg) in enumerate(zip(starting_simulation, continuation_of_simulation)):\n",
        "\n",
        "            src = torch.FloatTensor(src)\n",
        "            trg = torch.FloatTensor(trg)\n",
        "            output = model(src, trg, 0) #turn off teacher forcing\n",
        "            output_dim = output.shape[-1]\n",
        "            \n",
        "            output = output.view(output_dim)\n",
        "            loss = criterion(output, trg)\n",
        "            \n",
        "            epoch_loss += loss.item()\n",
        "        \n",
        "    return epoch_loss / len(starting_simulation)"
      ],
      "id": "hxO8s0n6lmoC"
    },
    {
      "cell_type": "code",
      "execution_count": null,
      "metadata": {
        "id": "R5IPegfZlmoD"
      },
      "outputs": [],
      "source": [
        "def epoch_time(start_time, end_time):\n",
        "    elapsed_time = end_time - start_time\n",
        "    elapsed_mins = int(elapsed_time / 60)\n",
        "    elapsed_secs = int(elapsed_time - (elapsed_mins * 60))\n",
        "    return elapsed_mins, elapsed_secs"
      ],
      "id": "R5IPegfZlmoD"
    },
    {
      "cell_type": "code",
      "execution_count": null,
      "metadata": {
        "colab": {
          "base_uri": "https://localhost:8080/"
        },
        "outputId": "a233bc48-5f34-4469-fab6-aa8a9bb5c695",
        "id": "tcKV-K7_lmoD"
      },
      "outputs": [
        {
          "output_type": "stream",
          "name": "stdout",
          "text": [
            "Epoch: 01 | Time: 0m 19s\n",
            "\tTrain Loss: 0.256 | Train PPL:   1.292\n",
            "\t Val. Loss: 0.253 |  Val. PPL:   1.288\n",
            "Epoch: 02 | Time: 0m 16s\n",
            "\tTrain Loss: 0.235 | Train PPL:   1.266\n",
            "\t Val. Loss: 0.244 |  Val. PPL:   1.276\n",
            "Epoch: 03 | Time: 0m 16s\n",
            "\tTrain Loss: 0.219 | Train PPL:   1.245\n",
            "\t Val. Loss: 0.224 |  Val. PPL:   1.251\n",
            "Epoch: 04 | Time: 0m 16s\n",
            "\tTrain Loss: 0.204 | Train PPL:   1.227\n",
            "\t Val. Loss: 0.220 |  Val. PPL:   1.246\n",
            "Epoch: 05 | Time: 0m 17s\n",
            "\tTrain Loss: 0.188 | Train PPL:   1.207\n",
            "\t Val. Loss: 0.191 |  Val. PPL:   1.210\n",
            "Epoch: 06 | Time: 0m 18s\n",
            "\tTrain Loss: 0.178 | Train PPL:   1.195\n",
            "\t Val. Loss: 0.188 |  Val. PPL:   1.206\n",
            "Epoch: 07 | Time: 0m 16s\n",
            "\tTrain Loss: 0.168 | Train PPL:   1.183\n",
            "\t Val. Loss: 0.175 |  Val. PPL:   1.191\n",
            "Epoch: 08 | Time: 0m 16s\n",
            "\tTrain Loss: 0.160 | Train PPL:   1.173\n",
            "\t Val. Loss: 0.179 |  Val. PPL:   1.196\n",
            "Epoch: 09 | Time: 0m 16s\n",
            "\tTrain Loss: 0.157 | Train PPL:   1.170\n",
            "\t Val. Loss: 0.157 |  Val. PPL:   1.170\n",
            "Epoch: 10 | Time: 0m 16s\n",
            "\tTrain Loss: 0.151 | Train PPL:   1.163\n",
            "\t Val. Loss: 0.164 |  Val. PPL:   1.178\n",
            "Epoch: 11 | Time: 0m 16s\n",
            "\tTrain Loss: 0.146 | Train PPL:   1.158\n",
            "\t Val. Loss: 0.170 |  Val. PPL:   1.185\n",
            "Epoch: 12 | Time: 0m 16s\n",
            "\tTrain Loss: 0.145 | Train PPL:   1.156\n",
            "\t Val. Loss: 0.148 |  Val. PPL:   1.160\n",
            "Epoch: 13 | Time: 0m 16s\n",
            "\tTrain Loss: 0.140 | Train PPL:   1.150\n",
            "\t Val. Loss: 0.150 |  Val. PPL:   1.161\n",
            "Epoch: 14 | Time: 0m 16s\n",
            "\tTrain Loss: 0.138 | Train PPL:   1.148\n",
            "\t Val. Loss: 0.150 |  Val. PPL:   1.162\n",
            "Epoch: 15 | Time: 0m 16s\n",
            "\tTrain Loss: 0.133 | Train PPL:   1.143\n",
            "\t Val. Loss: 0.151 |  Val. PPL:   1.163\n",
            "Epoch: 16 | Time: 0m 16s\n",
            "\tTrain Loss: 0.133 | Train PPL:   1.142\n",
            "\t Val. Loss: 0.147 |  Val. PPL:   1.159\n",
            "Epoch: 17 | Time: 0m 16s\n",
            "\tTrain Loss: 0.130 | Train PPL:   1.138\n",
            "\t Val. Loss: 0.146 |  Val. PPL:   1.158\n",
            "Epoch: 18 | Time: 0m 17s\n",
            "\tTrain Loss: 0.126 | Train PPL:   1.134\n",
            "\t Val. Loss: 0.146 |  Val. PPL:   1.157\n",
            "Epoch: 19 | Time: 0m 16s\n",
            "\tTrain Loss: 0.123 | Train PPL:   1.131\n",
            "\t Val. Loss: 0.135 |  Val. PPL:   1.145\n",
            "Epoch: 20 | Time: 0m 16s\n",
            "\tTrain Loss: 0.121 | Train PPL:   1.128\n",
            "\t Val. Loss: 0.131 |  Val. PPL:   1.140\n"
          ]
        }
      ],
      "source": [
        "N_EPOCHS = 20\n",
        "CLIP = 1\n",
        "\n",
        "adaptive_teacher_force = 0\n",
        "adaptive_step = (adaptive_teacher_force / N_EPOCHS) / 2\n",
        "best_valid_loss = float('inf')\n",
        "criterion = nn.L1Loss()\n",
        "\n",
        "training_losses = []\n",
        "valid_losses = []\n",
        "\n",
        "for epoch in range(N_EPOCHS):\n",
        "    \n",
        "    start_time = time.time()\n",
        "    \n",
        "    train_loss = train(model, simulation_train, charges_train, optimizer, criterion, CLIP, adaptive_teacher_force)\n",
        "    valid_loss = evaluate(model, simulation_valid , charges_valid, criterion)\n",
        "    \n",
        "    end_time = time.time()\n",
        "    epoch_mins, epoch_secs = epoch_time(start_time, end_time)\n",
        "    \n",
        "    if valid_loss < best_valid_loss:\n",
        "        best_valid_loss = valid_loss\n",
        "        torch.save(model.state_dict(), 'tut1-model.pt')\n",
        "    \n",
        "    #adaptive_teacher_force -= adaptive_step\n",
        "    training_losses.append(train_loss)\n",
        "    valid_losses.append(valid_loss)\n",
        "\n",
        "    print(f'Epoch: {epoch+1:02} | Time: {epoch_mins}m {epoch_secs}s')\n",
        "    print(f'\\tTrain Loss: {train_loss:.3f} | Train PPL: {math.exp(train_loss):7.3f}')\n",
        "    print(f'\\t Val. Loss: {valid_loss:.3f} |  Val. PPL: {math.exp(valid_loss):7.3f}')\n",
        "\n",
        "#losses_for_different_parameters_train.append((training_losses, N_EPOCHS, N_LAYERS, HID_DIM))\n",
        "#losses_for_different_parameters_valid.append((valid_losses, N_EPOCHS, N_LAYERS, HID_DIM))\n"
      ],
      "id": "tcKV-K7_lmoD"
    },
    {
      "cell_type": "markdown",
      "metadata": {
        "id": "da139d5b"
      },
      "source": [
        "## Evaluation\n",
        "The idea of the model is quite simple, so to evaluate the performance it's substantial to look at the value loss of the model. We see that on the final epoch it has reached 0.133, which means that the average distance between the predicted and the acutal charges is 0.133."
      ],
      "id": "da139d5b"
    },
    {
      "cell_type": "code",
      "source": [
        "charges = model"
      ],
      "metadata": {
        "id": "hSvPR2IBTmWU"
      },
      "id": "hSvPR2IBTmWU",
      "execution_count": null,
      "outputs": []
    },
    {
      "cell_type": "markdown",
      "source": [
        "## Printing the trajectories, for which the model did the worst prediction"
      ],
      "metadata": {
        "id": "4YHkXyXv8l4k"
      },
      "id": "4YHkXyXv8l4k"
    },
    {
      "cell_type": "code",
      "source": [
        "performance = nn.L1Loss()\n",
        "for i in range(100):\n",
        "  actual_charges = charges_test[i]\n",
        "  predicted_charges = charges(torch.FloatTensor(simulation_test[i]), torch.FloatTensor(actual_charges))\n",
        "  if(performance(predicted_charges, torch.FloatTensor(actual_charges)) > 0.25):\n",
        "    plot_example(simulation_test[i], np.array([[0, 0]]))"
      ],
      "metadata": {
        "colab": {
          "base_uri": "https://localhost:8080/",
          "height": 926
        },
        "id": "KrZocTQ165_U",
        "outputId": "19850227-f7cc-4251-9be7-4035c6ede0bd"
      },
      "id": "KrZocTQ165_U",
      "execution_count": null,
      "outputs": [
        {
          "output_type": "display_data",
          "data": {
            "text/plain": [
              "<Figure size 360x360 with 1 Axes>"
            ],
            "image/png": "[encoded data removed]"
          },
          "metadata": {
            "needs_background": "light"
          }
        },
        {
          "output_type": "display_data",
          "data": {
            "text/plain": [
              "<Figure size 360x360 with 1 Axes>"
            ],
            "image/png": "[encoded data removed]"
          },
          "metadata": {
            "needs_background": "light"
          }
        },
        {
          "output_type": "display_data",
          "data": {
            "text/plain": [
              "<Figure size 360x360 with 1 Axes>"
            ],
            "image/png": "[encoded data removed]"
          },
          "metadata": {
            "needs_background": "light"
          }
        }
      ]
    },
    {
      "cell_type": "markdown",
      "source": [
        "Apparently, the model is performing worse forthe situations, where the trajectory of the particle does not lie go close to the fixed particles."
      ],
      "metadata": {
        "id": "4XhxK_md8PtX"
      },
      "id": "4XhxK_md8PtX"
    },
    {
      "cell_type": "markdown",
      "metadata": {
        "id": "9a59808b"
      },
      "source": [
        "# Task 3.2"
      ],
      "id": "9a59808b"
    },
    {
      "cell_type": "markdown",
      "metadata": {
        "id": "f64a855d"
      },
      "source": [
        "## Data Handling and Preprocessing"
      ],
      "id": "f64a855d"
    },
    {
      "cell_type": "code",
      "execution_count": null,
      "metadata": {
        "id": "5b935865"
      },
      "outputs": [],
      "source": [
        "#todo"
      ],
      "id": "5b935865"
    },
    {
      "cell_type": "code",
      "execution_count": null,
      "metadata": {
        "id": "0ec19a8d"
      },
      "outputs": [],
      "source": [
        ""
      ],
      "id": "0ec19a8d"
    },
    {
      "cell_type": "code",
      "source": [
        "losses_for_different_parameters_train = []\n",
        "losses_for_different_parameters_valid = []"
      ],
      "metadata": {
        "id": "Px1uVSmJWmqX"
      },
      "id": "Px1uVSmJWmqX",
      "execution_count": null,
      "outputs": []
    },
    {
      "cell_type": "code",
      "execution_count": null,
      "metadata": {
        "id": "8f189d19"
      },
      "outputs": [],
      "source": [
        ""
      ],
      "id": "8f189d19"
    },
    {
      "cell_type": "markdown",
      "metadata": {
        "id": "867aabb3"
      },
      "source": [
        "## Model Implementation"
      ],
      "id": "867aabb3"
    },
    {
      "cell_type": "code",
      "execution_count": null,
      "metadata": {
        "id": "f80b1ca2"
      },
      "outputs": [],
      "source": [
        "class Encoder(nn.Module):\n",
        "    def __init__(self, input_dim, hid_dim, n_layers, dropout):\n",
        "        super().__init__()\n",
        "        self.hid_dim = hid_dim\n",
        "        self.n_layers = n_layers\n",
        "        self.rnn = nn.LSTM(input_dim, hid_dim, n_layers, dropout = dropout)\n",
        "        #self.dropout = nn.Dropout(dropout)\n",
        "        \n",
        "    def forward(self, simulation_start):\n",
        "        outputs, (hidden, cell) = self.rnn(simulation_start)\n",
        "        \n",
        "        return hidden, cell, outputs"
      ],
      "id": "f80b1ca2"
    },
    {
      "cell_type": "code",
      "execution_count": null,
      "metadata": {
        "id": "fdbf2800"
      },
      "outputs": [],
      "source": [
        "class Decoder(nn.Module):\n",
        "    def __init__(self, input_dim, output_dim, hid_dim, n_layers, dropout):\n",
        "        super().__init__()\n",
        "        \n",
        "        self.output_dim = output_dim\n",
        "        self.input_dim = input_dim\n",
        "        self.hid_dim = hid_dim\n",
        "        self.n_layers = n_layers        \n",
        "        self.rnn = nn.LSTM(self.input_dim + hid_dim, hid_dim, n_layers, dropout = dropout)\n",
        "\n",
        "        self.Wa = nn.Linear(hid_dim, 100)\n",
        "        self.Ua = nn.Linear(hid_dim, 100)\n",
        "        self.va = nn.Linear(100, 1)\n",
        "        self.tanh = nn.Tanh()\n",
        "        self.softmax = nn.Softmax()\n",
        "        self.fc_out = nn.Linear(hid_dim, output_dim)\n",
        "                \n",
        "    def forward(self, input, hidden, cell, encoder_ouput):\n",
        "        #attention mechanism\n",
        "        eij = self.Wa(hidden[-1]) + self.Ua(encoder_ouput)\n",
        "        eij = self.tanh(eij)\n",
        "        eij = self.va(eij)\n",
        "        ak = self.softmax(eij)\n",
        "        ci = ak * encoder_ouput\n",
        "        ci = torch.sum(ci, dim=0)\n",
        "\n",
        "        #LSTM\n",
        "        input = torch.cat((input, ci.unsqueeze(0)), dim=1)\n",
        "        output, (hidden, cell) = self.rnn(input, (hidden, cell))\n",
        "        \n",
        "        prediction = self.fc_out(output)\n",
        "        \n",
        "        return prediction, hidden, cell"
      ],
      "id": "fdbf2800"
    },
    {
      "cell_type": "code",
      "execution_count": null,
      "metadata": {
        "id": "SU72ChSl4bwx"
      },
      "outputs": [],
      "source": [
        "#charges\n",
        "class Seq2Seq(nn.Module):\n",
        "    def __init__(self, encoder, decoder, device):\n",
        "        super().__init__()\n",
        "        \n",
        "        self.encoder = encoder\n",
        "        self.decoder = decoder\n",
        "        self.device = device\n",
        "        \n",
        "        assert encoder.hid_dim == decoder.hid_dim, \\\n",
        "            \"Hidden dimensions of encoder and decoder must be equal!\"\n",
        "        assert encoder.n_layers == decoder.n_layers, \\\n",
        "            \"Encoder and decoder must have equal number of layers!\"\n",
        "        \n",
        "    def forward(self, src, trg, teacher_forcing_ratio = 1):\n",
        "        \n",
        "        \n",
        "        batch_size = trg.shape[1]\n",
        "        trg_len = trg.shape[0]\n",
        "        \n",
        "        #tensor to store decoder outputs\n",
        "        \n",
        "        #outputs = torch.zeros(trg_len, batch_size, 2).to(self.device)\n",
        "        outputs = torch.zeros(trg_len, 2).to(self.device)\n",
        "\n",
        "        #last hidden state of the encoder is used as the initial hidden state of the decoder\n",
        "        hidden, cell, encoder_output = self.encoder(src)\n",
        "        \n",
        "        #s0 = (self.encoder.weight_hh_l[-1] * )\n",
        "\n",
        "        #input = src[-int(INPUT_DIM_DECODER/2):].view(1, -1)\n",
        "        #print(input.shape)\n",
        "        input = torch.cat((src[-int(INPUT_DIM_DECODER/2):].view(1, -1), charges(src, trg, 0).view(1, -1)), 1)\n",
        "        #print(input.shape)\n",
        "        #input.shape()\n",
        "        for t in range(0, trg_len):\n",
        "            \n",
        "            #insert input token embedding, previous hidden and previous cell states\n",
        "            #receive output tensor (predictions) and new hidden and cell states\n",
        "            output, hidden, cell = self.decoder(input, hidden, cell, encoder_output)\n",
        "            #place predictions in a tensor holding predictions for each token\n",
        "            outputs[t] = output\n",
        "            \n",
        "            #decide if we are going to use teacher forcing or not\n",
        "            \n",
        "            #get the highest predicted token from our predictions\n",
        "            teacher_force = random.random() < teacher_forcing_ratio\n",
        "            #if teacher forcing, use actual next token as next input\n",
        "            #if not, use predicted token\n",
        "\n",
        "            #autoregressive part(here we pass multiple previous outputs, into the next input)\n",
        "            temp = torch.zeros(1, INPUT_DIM_DECODER + 3)\n",
        "            for i in range(INPUT_DIM_DECODER - 2):\n",
        "              curr = ((t + 1) * 2) + i - INPUT_DIM_DECODER\n",
        "              if(teacher_force or curr < 0):\n",
        "                if curr < 0:\n",
        "                  temp[0, i] = src.view(-1)[curr]\n",
        "                else:\n",
        "                  temp[0, i] = trg.view(-1)[curr]\n",
        "              else:\n",
        "                temp[0, i] = outputs.view(-1)[curr]\n",
        "            teacher_force = random.random() < teacher_forcing_ratio\n",
        "            temp[0, -5:-3] = trg[t] if teacher_force else output[0]\n",
        "            input = temp\n",
        "        \n",
        "        return outputs"
      ],
      "id": "SU72ChSl4bwx"
    },
    {
      "cell_type": "markdown",
      "metadata": {
        "id": "826fae3f"
      },
      "source": [
        "## Model Training"
      ],
      "id": "826fae3f"
    },
    {
      "cell_type": "code",
      "execution_count": null,
      "metadata": {
        "id": "db3fce95"
      },
      "outputs": [],
      "source": [
        "INPUT_DIM = 2\n",
        "INPUT_DIM_DECODER = 10\n",
        "OUTPUT_DIM = 2\n",
        "HID_DIM = 30\n",
        "N_LAYERS = 3\n",
        "ENC_DROPOUT = 0.2\n",
        "DEC_DROPOUT = 0.2\n",
        "device = 'cpu'\n",
        "\n",
        "enc = Encoder(INPUT_DIM, HID_DIM, N_LAYERS, ENC_DROPOUT)\n",
        "dec = Decoder(INPUT_DIM_DECODER + 3, OUTPUT_DIM, HID_DIM, N_LAYERS, DEC_DROPOUT)\n",
        "\n",
        "model = Seq2Seq(enc, dec, device).to(device)"
      ],
      "id": "db3fce95"
    },
    {
      "cell_type": "code",
      "execution_count": null,
      "metadata": {
        "id": "41ddb47d"
      },
      "outputs": [],
      "source": [
        "optimizer = optim.Adam(model.parameters())\n"
      ],
      "id": "41ddb47d"
    },
    {
      "cell_type": "code",
      "execution_count": null,
      "metadata": {
        "id": "XnPId5ENBURz"
      },
      "outputs": [],
      "source": [
        "def train(model, starting_simulation, continuation_of_simulation, optimizer, criterion, clip, teacher_force):\n",
        "    \n",
        "    model.train()\n",
        "    \n",
        "    epoch_loss = 0\n",
        "    for i, (src, trg) in enumerate(zip(starting_simulation, continuation_of_simulation)):\n",
        "        src = torch.FloatTensor(src)\n",
        "        trg = torch.FloatTensor(trg)\n",
        "        optimizer.zero_grad()\n",
        "        output = model(src, trg, teacher_force)\n",
        "        \n",
        "        output_dim = output.shape[-1]\n",
        "        \n",
        "        output = output.view(-1, output_dim)\n",
        "        \n",
        "        real_vels = torch.zeros(trg.shape[0] - 1, trg.shape[1])\n",
        "        pred_vels = torch.zeros(output.shape[0] - 1, output.shape[1])\n",
        "        for i in range(real_vels.shape[0]):\n",
        "          pred_vels[i] = trg[i + 1] - trg[i]\n",
        "          real_vels[i] = output[i + 1] - output[i]\n",
        "\n",
        "        loss = torch.mean(criterion(torch.cat((output, pred_vels), dim=0), torch.cat((trg, real_vels), dim=0)))\n",
        "        loss.backward()\n",
        "        \n",
        "        torch.nn.utils.clip_grad_norm_(model.parameters(), clip)\n",
        "        \n",
        "        optimizer.step()\n",
        "        \n",
        "        epoch_loss += loss.item()\n",
        "        \n",
        "    return epoch_loss / len(starting_simulation)"
      ],
      "id": "XnPId5ENBURz"
    },
    {
      "cell_type": "code",
      "execution_count": null,
      "metadata": {
        "id": "AjUXegpxDc_8"
      },
      "outputs": [],
      "source": [
        "\n",
        "def evaluate(model, starting_simulation, continuation_of_simulation, criterion):\n",
        "    \n",
        "    model.eval()\n",
        "    \n",
        "    epoch_loss = 0\n",
        "    \n",
        "    with torch.no_grad():\n",
        "      for i, (src, trg) in enumerate(zip(starting_simulation, continuation_of_simulation)):\n",
        "\n",
        "            src = torch.FloatTensor(src)\n",
        "            trg = torch.FloatTensor(trg)\n",
        "            output = model(src, trg, 0) #turn off teacher forcing\n",
        "\n",
        "\n",
        "            output_dim = output.shape[-1]\n",
        "            \n",
        "            output = output.view(-1, output_dim)\n",
        "\n",
        "            loss = torch.mean(criterion(output, trg))\n",
        "            \n",
        "            epoch_loss += loss.item()\n",
        "        \n",
        "    return epoch_loss / len(starting_simulation)"
      ],
      "id": "AjUXegpxDc_8"
    },
    {
      "cell_type": "code",
      "execution_count": null,
      "metadata": {
        "id": "Xj1J0tEtDfO6"
      },
      "outputs": [],
      "source": [
        "\n",
        "def epoch_time(start_time, end_time):\n",
        "    elapsed_time = end_time - start_time\n",
        "    elapsed_mins = int(elapsed_time / 60)\n",
        "    elapsed_secs = int(elapsed_time - (elapsed_mins * 60))\n",
        "    return elapsed_mins, elapsed_secs"
      ],
      "id": "Xj1J0tEtDfO6"
    },
    {
      "cell_type": "code",
      "execution_count": null,
      "metadata": {
        "colab": {
          "base_uri": "https://localhost:8080/"
        },
        "id": "aHnaBzDtDi5D",
        "outputId": "62678f43-ee90-45cb-de21-6ba905db2bc8"
      },
      "outputs": [
        {
          "output_type": "stream",
          "name": "stderr",
          "text": [
            "/usr/local/lib/python3.7/dist-packages/ipykernel_launcher.py:23: UserWarning: Implicit dimension choice for softmax has been deprecated. Change the call to include dim=X as an argument.\n"
          ]
        },
        {
          "output_type": "stream",
          "name": "stdout",
          "text": [
            "Epoch: 01 | Time: 0m 32s\n",
            "\tTrain Loss: 1.195 | Train PPL:   3.303\n",
            "\t Val. Loss: 2.334 |  Val. PPL:  10.321\n",
            "Epoch: 02 | Time: 0m 33s\n",
            "\tTrain Loss: 1.160 | Train PPL:   3.191\n",
            "\t Val. Loss: 2.287 |  Val. PPL:   9.848\n",
            "Epoch: 03 | Time: 0m 32s\n",
            "\tTrain Loss: 1.119 | Train PPL:   3.063\n",
            "\t Val. Loss: 2.287 |  Val. PPL:   9.848\n",
            "Epoch: 04 | Time: 0m 32s\n",
            "\tTrain Loss: 1.107 | Train PPL:   3.026\n",
            "\t Val. Loss: 2.260 |  Val. PPL:   9.586\n",
            "Epoch: 05 | Time: 0m 32s\n",
            "\tTrain Loss: 1.083 | Train PPL:   2.954\n",
            "\t Val. Loss: 1.978 |  Val. PPL:   7.230\n",
            "Epoch: 06 | Time: 0m 32s\n",
            "\tTrain Loss: 0.989 | Train PPL:   2.687\n",
            "\t Val. Loss: 1.820 |  Val. PPL:   6.173\n",
            "Epoch: 07 | Time: 0m 32s\n",
            "\tTrain Loss: 0.950 | Train PPL:   2.585\n",
            "\t Val. Loss: 1.800 |  Val. PPL:   6.052\n",
            "Epoch: 08 | Time: 0m 32s\n",
            "\tTrain Loss: 0.905 | Train PPL:   2.472\n",
            "\t Val. Loss: 1.754 |  Val. PPL:   5.777\n",
            "Epoch: 09 | Time: 0m 32s\n",
            "\tTrain Loss: 0.887 | Train PPL:   2.429\n",
            "\t Val. Loss: 1.660 |  Val. PPL:   5.259\n",
            "Epoch: 10 | Time: 0m 32s\n",
            "\tTrain Loss: 0.860 | Train PPL:   2.362\n",
            "\t Val. Loss: 1.806 |  Val. PPL:   6.089\n",
            "Epoch: 11 | Time: 0m 32s\n",
            "\tTrain Loss: 0.832 | Train PPL:   2.297\n",
            "\t Val. Loss: 1.637 |  Val. PPL:   5.139\n",
            "Epoch: 12 | Time: 0m 32s\n",
            "\tTrain Loss: 0.789 | Train PPL:   2.201\n",
            "\t Val. Loss: 1.520 |  Val. PPL:   4.573\n",
            "Epoch: 13 | Time: 0m 32s\n",
            "\tTrain Loss: 0.752 | Train PPL:   2.121\n",
            "\t Val. Loss: 1.544 |  Val. PPL:   4.682\n",
            "Epoch: 14 | Time: 0m 32s\n",
            "\tTrain Loss: 0.749 | Train PPL:   2.115\n",
            "\t Val. Loss: 1.349 |  Val. PPL:   3.855\n",
            "Epoch: 15 | Time: 0m 32s\n",
            "\tTrain Loss: 0.692 | Train PPL:   1.998\n",
            "\t Val. Loss: 1.325 |  Val. PPL:   3.760\n",
            "Epoch: 16 | Time: 0m 32s\n",
            "\tTrain Loss: 0.681 | Train PPL:   1.976\n",
            "\t Val. Loss: 1.334 |  Val. PPL:   3.798\n",
            "Epoch: 17 | Time: 0m 33s\n",
            "\tTrain Loss: 0.650 | Train PPL:   1.915\n",
            "\t Val. Loss: 1.425 |  Val. PPL:   4.158\n",
            "Epoch: 18 | Time: 0m 32s\n",
            "\tTrain Loss: 0.650 | Train PPL:   1.916\n",
            "\t Val. Loss: 1.396 |  Val. PPL:   4.041\n",
            "Epoch: 19 | Time: 0m 32s\n",
            "\tTrain Loss: 0.599 | Train PPL:   1.819\n",
            "\t Val. Loss: 1.338 |  Val. PPL:   3.810\n",
            "Epoch: 20 | Time: 0m 32s\n",
            "\tTrain Loss: 0.605 | Train PPL:   1.832\n",
            "\t Val. Loss: 1.349 |  Val. PPL:   3.854\n",
            "Epoch: 21 | Time: 0m 32s\n",
            "\tTrain Loss: 0.584 | Train PPL:   1.794\n",
            "\t Val. Loss: 1.286 |  Val. PPL:   3.617\n",
            "Epoch: 22 | Time: 0m 31s\n",
            "\tTrain Loss: 0.572 | Train PPL:   1.773\n",
            "\t Val. Loss: 1.464 |  Val. PPL:   4.322\n",
            "Epoch: 23 | Time: 0m 32s\n",
            "\tTrain Loss: 0.556 | Train PPL:   1.744\n",
            "\t Val. Loss: 1.231 |  Val. PPL:   3.426\n",
            "Epoch: 24 | Time: 0m 32s\n",
            "\tTrain Loss: 0.575 | Train PPL:   1.777\n",
            "\t Val. Loss: 1.322 |  Val. PPL:   3.751\n",
            "Epoch: 25 | Time: 0m 32s\n",
            "\tTrain Loss: 0.534 | Train PPL:   1.705\n",
            "\t Val. Loss: 1.381 |  Val. PPL:   3.977\n",
            "Epoch: 26 | Time: 0m 31s\n",
            "\tTrain Loss: 0.560 | Train PPL:   1.750\n",
            "\t Val. Loss: 1.245 |  Val. PPL:   3.474\n",
            "Epoch: 27 | Time: 0m 32s\n",
            "\tTrain Loss: 0.519 | Train PPL:   1.680\n",
            "\t Val. Loss: 1.217 |  Val. PPL:   3.378\n",
            "Epoch: 28 | Time: 0m 32s\n",
            "\tTrain Loss: 0.508 | Train PPL:   1.661\n",
            "\t Val. Loss: 1.258 |  Val. PPL:   3.517\n",
            "Epoch: 29 | Time: 0m 32s\n",
            "\tTrain Loss: 0.525 | Train PPL:   1.690\n",
            "\t Val. Loss: 1.331 |  Val. PPL:   3.787\n",
            "Epoch: 30 | Time: 0m 32s\n",
            "\tTrain Loss: 0.512 | Train PPL:   1.668\n",
            "\t Val. Loss: 1.176 |  Val. PPL:   3.241\n"
          ]
        }
      ],
      "source": [
        "N_EPOCHS = 30\n",
        "CLIP = 1\n",
        "\n",
        "adaptive_teacher_force = 0\n",
        "adaptive_step = (adaptive_teacher_force / N_EPOCHS) / 2\n",
        "best_valid_loss = float('inf')\n",
        "criterion = nn.PairwiseDistance()\n",
        "\n",
        "training_losses = []\n",
        "valid_losses = []\n",
        "\n",
        "for epoch in range(N_EPOCHS):\n",
        "    \n",
        "    start_time = time.time()\n",
        "    \n",
        "    train_loss = train(model, simulation_train_task32, simulation_continued_train, optimizer, criterion, CLIP, adaptive_teacher_force)\n",
        "    valid_loss = evaluate(model, simulation_valid , simulation_continued_valid, criterion)\n",
        "    \n",
        "    end_time = time.time()\n",
        "    epoch_mins, epoch_secs = epoch_time(start_time, end_time)\n",
        "    \n",
        "    if valid_loss < best_valid_loss:\n",
        "        best_valid_loss = valid_loss\n",
        "        torch.save(model.state_dict(), 'tut1-model.pt')\n",
        "    \n",
        "    #adaptive_teacher_force -= adaptive_step\n",
        "    training_losses.append(train_loss)\n",
        "    valid_losses.append(valid_loss)\n",
        "\n",
        "    print(f'Epoch: {epoch+1:02} | Time: {epoch_mins}m {epoch_secs}s')\n",
        "    print(f'\\tTrain Loss: {train_loss:.3f} | Train PPL: {math.exp(train_loss):7.3f}')\n",
        "    print(f'\\t Val. Loss: {valid_loss:.3f} |  Val. PPL: {math.exp(valid_loss):7.3f}')\n",
        "\n",
        "losses_for_different_parameters_train.append((training_losses, N_EPOCHS, N_LAYERS, HID_DIM))\n",
        "losses_for_different_parameters_valid.append((valid_losses, N_EPOCHS, N_LAYERS, HID_DIM))\n"
      ],
      "id": "aHnaBzDtDi5D"
    },
    {
      "cell_type": "code",
      "source": [
        "import seaborn as sns\n",
        "\n",
        "g= sns.lineplot(y=np.array(valid_losses), x=np.arange(1, len(valid_losses) + 1))\n",
        "g =sns.lineplot(y=np.array(training_losses), x=np.arange(1, len(training_losses) + 1))\n",
        "g.set(ylim=(None, 2.5))\n",
        "np.arange(1, len(training_losses) +1)\n",
        "np.array(valid_losses)"
      ],
      "metadata": {
        "id": "bd0XqTt4AB2z",
        "colab": {
          "base_uri": "https://localhost:8080/",
          "height": 373
        },
        "outputId": "19f31f7a-530c-4f9a-9983-b7540915bf8f"
      },
      "id": "bd0XqTt4AB2z",
      "execution_count": null,
      "outputs": [
        {
          "output_type": "execute_result",
          "data": {
            "text/plain": [
              "array([2.33422272, 2.28724976, 2.28727464, 2.26026743, 1.97822764,\n",
              "       1.82020083, 1.80035669, 1.75391596, 1.65991737, 1.80647475,\n",
              "       1.6368196 , 1.5202384 , 1.54367106, 1.34940853, 1.32450957,\n",
              "       1.33435444, 1.42504117, 1.39649713, 1.33773146, 1.34915459,\n",
              "       1.285712  , 1.4637227 , 1.23132301, 1.322068  , 1.38051666,\n",
              "       1.24531843, 1.21737017, 1.25765574, 1.33149708, 1.17585794])"
            ]
          },
          "metadata": {},
          "execution_count": 95
        },
        {
          "output_type": "display_data",
          "data": {
            "text/plain": [
              "<Figure size 432x288 with 1 Axes>"
            ],
            "image/png": "[encoded data removed]"
          },
          "metadata": {
            "needs_background": "light"
          }
        }
      ]
    },
    {
      "cell_type": "markdown",
      "metadata": {
        "id": "c87278a2"
      },
      "source": [
        "## Evaluation"
      ],
      "id": "c87278a2"
    },
    {
      "cell_type": "code",
      "execution_count": null,
      "metadata": {
        "id": "736c10d8",
        "colab": {
          "base_uri": "https://localhost:8080/",
          "height": 658
        },
        "outputId": "b01e20a2-89d0-44b1-acb6-c095cca99fdf"
      },
      "outputs": [
        {
          "output_type": "display_data",
          "data": {
            "text/plain": [
              "<Figure size 360x360 with 1 Axes>"
            ],
            "image/png": "[encoded data removed]"
          },
          "metadata": {
            "needs_background": "light"
          }
        },
        {
          "output_type": "stream",
          "name": "stderr",
          "text": [
            "/usr/local/lib/python3.7/dist-packages/ipykernel_launcher.py:23: UserWarning: Implicit dimension choice for softmax has been deprecated. Change the call to include dim=X as an argument.\n"
          ]
        },
        {
          "output_type": "display_data",
          "data": {
            "text/plain": [
              "<Figure size 360x360 with 1 Axes>"
            ],
            "image/png": "[encoded data removed]"
          },
          "metadata": {
            "needs_background": "light"
          }
        },
        {
          "output_type": "stream",
          "name": "stdout",
          "text": [
            "Charges are [-0.89292929 -0.89537468 -0.87927981]\n"
          ]
        }
      ],
      "source": [
        "test_idx = np.random.randint(100)\n",
        "plot_example(simulation_valid[test_idx], simulation_continued_valid[test_idx])\n",
        "output = model(torch.FloatTensor(simulation_valid[test_idx]), torch.FloatTensor(simulation_continued_valid[test_idx]), 0)\n",
        "output = output.view(-1, 2)\n",
        "plot_example(simulation_valid[test_idx], output.detach().numpy())\n",
        "print(f'Charges are {charges_train[test_idx]}')"
      ],
      "id": "736c10d8"
    },
    {
      "cell_type": "code",
      "execution_count": null,
      "metadata": {
        "id": "-gpvoodA7bua",
        "colab": {
          "base_uri": "https://localhost:8080/",
          "height": 658
        },
        "outputId": "023088bd-55b8-494b-95dc-9f82c927e50a"
      },
      "outputs": [
        {
          "output_type": "display_data",
          "data": {
            "text/plain": [
              "<Figure size 360x360 with 1 Axes>"
            ],
            "image/png": "[encoded data removed]"
          },
          "metadata": {
            "needs_background": "light"
          }
        },
        {
          "output_type": "stream",
          "name": "stderr",
          "text": [
            "/usr/local/lib/python3.7/dist-packages/ipykernel_launcher.py:23: UserWarning: Implicit dimension choice for softmax has been deprecated. Change the call to include dim=X as an argument.\n"
          ]
        },
        {
          "output_type": "display_data",
          "data": {
            "text/plain": [
              "<Figure size 360x360 with 1 Axes>"
            ],
            "image/png": "[encoded data removed]"
          },
          "metadata": {
            "needs_background": "light"
          }
        },
        {
          "output_type": "stream",
          "name": "stdout",
          "text": [
            "Charges are [-0.35175656 -0.47319647 -0.11388248]\n"
          ]
        }
      ],
      "source": [
        "test_idx = np.random.randint(100)\n",
        "plot_example(simulation_train[test_idx], simulation_continued_train[test_idx])\n",
        "output = model(torch.FloatTensor(simulation_train[test_idx]), torch.FloatTensor(simulation_continued_train[test_idx]), 0)\n",
        "#output = output.view(-1, 2)\n",
        "#print(output)\n",
        "#print()\n",
        "plot_example(simulation_train[test_idx], output.detach().numpy())\n",
        "print(f'Charges are {charges_train[test_idx]}')"
      ],
      "id": "-gpvoodA7bua"
    },
    {
      "cell_type": "markdown",
      "source": [
        "# Comparing with interpolation"
      ],
      "metadata": {
        "id": "UGa76UJT192q"
      },
      "id": "UGa76UJT192q"
    },
    {
      "cell_type": "code",
      "source": [
        "extrapolation_loss = []\n",
        "predicted_loss = []\n",
        "\n",
        "performance = torch.nn.PairwiseDistance()\n",
        "for i in range(100):\n",
        "  output = model(torch.FloatTensor(simulation_valid[i]), torch.FloatTensor(simulation_continued_valid[i]), 0)\n",
        "  extrapolation = np.array([[0, 0], [0, 0]], dtype=np.float)\n",
        "  extrapolation[0] = simulation_valid[i][-1] + (simulation_valid[i][-1] - simulation_valid[i][-2])\n",
        "  extrapolation[1] = (extrapolation[0] + (extrapolation[0] - simulation_valid[i][-2]))\n",
        "  #print(interpolation[0])\n",
        "  #print(interpolation[1])\n",
        "  for j in range(2, output.shape[0]):\n",
        "    extrapolation = np.append(extrapolation, np.array([extrapolation[j-1] + (extrapolation[j-1] - extrapolation[j-2])]), 0)\n",
        "  #print(interpolation.shape)\n",
        "  #plot_example(simulation_valid[i], output.detach().numpy())\n",
        "  #plot_example(simulation_valid[i], interpolation)\n",
        "  extrapolation_loss.append(torch.mean(performance(torch.FloatTensor(extrapolation), torch.FloatTensor(simulation_continued_valid[i]))))\n",
        "  predicted_loss.append(torch.mean(performance(torch.FloatTensor(output), torch.FloatTensor(simulation_continued_valid[i]))))\n",
        "  if(i == 0):\n",
        "    plot_example(simulation_valid[i], output.detach().numpy())\n",
        "    plot_example(simulation_valid[i], extrapolation)\n",
        "\n",
        "  #print(f'Charges are {charges_train[i]}')\n",
        "print(f\"average distance for interpolation: {float(sum(extrapolation_loss) / len(extrapolation_loss))}\")\n",
        "print(f\"average distance for prediction: {sum(predicted_loss) / len(predicted_loss)}\")\n"
      ],
      "metadata": {
        "colab": {
          "base_uri": "https://localhost:8080/",
          "height": 817
        },
        "id": "ioqpq8xXvwwB",
        "outputId": "a385cdaf-032b-4176-cbcc-e2ed65642e88"
      },
      "id": "ioqpq8xXvwwB",
      "execution_count": null,
      "outputs": [
        {
          "output_type": "stream",
          "name": "stderr",
          "text": [
            "/usr/local/lib/python3.7/dist-packages/ipykernel_launcher.py:23: UserWarning: Implicit dimension choice for softmax has been deprecated. Change the call to include dim=X as an argument.\n",
            "/usr/local/lib/python3.7/dist-packages/ipykernel_launcher.py:7: DeprecationWarning: `np.float` is a deprecated alias for the builtin `float`. To silence this warning, use `float` by itself. Doing this will not modify any behavior and is safe. If you specifically wanted the numpy scalar type, use `np.float64` here.\n",
            "Deprecated in NumPy 1.20; for more details and guidance: https://numpy.org/devdocs/release/1.20.0-notes.html#deprecations\n",
            "  import sys\n"
          ]
        },
        {
          "output_type": "display_data",
          "data": {
            "text/plain": [
              "<Figure size 360x360 with 1 Axes>"
            ],
            "image/png": "[encoded data removed]"
          },
          "metadata": {
            "needs_background": "light"
          }
        },
        {
          "output_type": "display_data",
          "data": {
            "text/plain": [
              "<Figure size 360x360 with 1 Axes>"
            ],
            "image/png": "[encoded data removed]"
          },
          "metadata": {
            "needs_background": "light"
          }
        },
        {
          "output_type": "stream",
          "name": "stderr",
          "text": [
            "/usr/local/lib/python3.7/dist-packages/ipykernel_launcher.py:23: UserWarning: Implicit dimension choice for softmax has been deprecated. Change the call to include dim=X as an argument.\n",
            "/usr/local/lib/python3.7/dist-packages/ipykernel_launcher.py:7: DeprecationWarning: `np.float` is a deprecated alias for the builtin `float`. To silence this warning, use `float` by itself. Doing this will not modify any behavior and is safe. If you specifically wanted the numpy scalar type, use `np.float64` here.\n",
            "Deprecated in NumPy 1.20; for more details and guidance: https://numpy.org/devdocs/release/1.20.0-notes.html#deprecations\n",
            "  import sys\n"
          ]
        },
        {
          "output_type": "stream",
          "name": "stdout",
          "text": [
            "average distance for interpolation: 3.3796205520629883\n",
            "average distance for prediction: 1.1758580207824707\n"
          ]
        }
      ]
    }
  ],
  "metadata": {
    "colab": {
      "collapsed_sections": [],
      "name": "a3_skeleton.ipynb",
      "provenance": []
    },
    "kernelspec": {
      "display_name": "Python 3",
      "language": "python",
      "name": "python3"
    },
    "language_info": {
      "codemirror_mode": {
        "name": "ipython",
        "version": 3
      },
      "file_extension": ".py",
      "mimetype": "text/x-python",
      "name": "python",
      "nbconvert_exporter": "python",
      "pygments_lexer": "ipython3",
      "version": "3.8.8"
    },
    "gpuClass": "standard"
  },
  "nbformat": 4,
  "nbformat_minor": 5
}